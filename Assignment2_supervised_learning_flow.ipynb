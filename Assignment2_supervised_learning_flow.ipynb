{
 "cells": [
  {
   "cell_type": "markdown",
   "metadata": {},
   "source": [
    "# Assignment2 - Supervised Learning flow"
   ]
  },
  {
   "cell_type": "markdown",
   "metadata": {},
   "source": [
    "# Part 1 - Student details:\n",
    "* Please write the First Name and last 4 digits of the i.d. for each student. For example:\n",
    "<pre>Israel 9812</pre>"
   ]
  },
  {
   "cell_type": "code",
   "execution_count": 4,
   "metadata": {},
   "outputs": [],
   "source": [
    "# student 1:Avraham Maro 2154\n",
    "# student 2:"
   ]
  },
  {
   "cell_type": "markdown",
   "metadata": {},
   "source": [
    "## Part 2 - Initial Preparations \n",
    "You could add as many code cells as needed"
   ]
  },
  {
   "cell_type": "code",
   "execution_count": 17,
   "metadata": {},
   "outputs": [],
   "source": [
    "import numpy as np\n",
    "import scipy as sp\n",
    "import pandas as pd\n",
    "from scipy.stats import pearsonr\n",
    "import matplotlib.pyplot as plt\n",
    "import seaborn as sns\n",
    "from sklearn.model_selection import ParameterGrid\n",
    "from sklearn.model_selection import KFold, GridSearchCV\n",
    "from sklearn.model_selection import train_test_split\n",
    "from sklearn.model_selection import cross_val_score\n",
    "from sklearn.linear_model import LinearRegression\n",
    "from sklearn.metrics import accuracy_score\n",
    "from sklearn.metrics import make_scorer\n",
    "from sklearn.model_selection import GridSearchCV, train_test_split\n",
    "from sklearn.tree import DecisionTreeRegressor\n",
    "from sklearn.preprocessing import StandardScaler\n",
    "from sklearn.pipeline import Pipeline\n",
    "from sklearn.metrics import r2_score\n",
    "from sklearn.metrics import mean_absolute_error\n",
    "from sklearn.ensemble import RandomForestRegressor, GradientBoostingRegressor"
   ]
  },
  {
   "cell_type": "code",
   "execution_count": 18,
   "metadata": {},
   "outputs": [
    {
     "name": "stdout",
     "output_type": "stream",
     "text": [
      "First 5 value\n",
      "   MedInc  HouseAge  AveRooms  AveBedrms  Population  AveOccup  Latitude  \\\n",
      "0  4.0179      46.0  4.158690   1.032746       512.0  1.289673     34.07   \n",
      "1  2.7002       6.0  4.149245   1.179989      4092.0  2.287311     34.05   \n",
      "2  1.2762      17.0  3.432331   1.022556      1325.0  2.490602     34.42   \n",
      "3  4.9342      23.0  5.735798   1.053201      4580.0  4.129847     34.04   \n",
      "4  2.2755      21.0  4.064607   0.962079      2109.0  2.962079     32.58   \n",
      "\n",
      "   Longitude  MedHouseVal  \n",
      "0    -118.35        3.500  \n",
      "1    -117.31        0.883  \n",
      "2    -119.69        2.536  \n",
      "3    -117.93        1.810  \n",
      "4    -117.11        1.250  \n",
      "First 5 value\n",
      "   MedInc  HouseAge   AveRooms  AveBedrms  Population  AveOccup  Latitude  \\\n",
      "0  5.3254      32.0   5.786260   1.033079       982.0  2.498728     34.29   \n",
      "1  5.3032      52.0   5.095745   1.028369       980.0  3.475177     34.08   \n",
      "2  4.1679      41.0   6.617486   1.371585       915.0  2.500000     37.05   \n",
      "3  3.6429      28.0   5.249180   1.009836       848.0  2.780328     38.69   \n",
      "4  2.7457      17.0  11.183267   2.107570       675.0  2.689243     38.88   \n",
      "\n",
      "   Longitude  MedHouseVal  \n",
      "0    -119.27        3.852  \n",
      "1    -118.12        2.457  \n",
      "2    -122.05        2.013  \n",
      "3    -121.41        1.052  \n",
      "4    -119.99        1.078  \n"
     ]
    }
   ],
   "source": [
    "def load_and_show_csv(housing_train):\n",
    "    \"\"\"\n",
    "    פונקציה לטעינת קובץ CSV והצגת 5 השורות הראשונות.\n",
    "    \n",
    "    פרמטרים:\n",
    "    file_path: מחרוזת שמציינת את הנתיב לקובץ ה-CSV\n",
    "    \n",
    "    החזרה:\n",
    "    None - מדפיסה את 5 השורות הראשונות של הקובץ\n",
    "    \"\"\"\n",
    "    try:\n",
    "        # טוען את הקובץ\n",
    "        df = pd.read_csv(housing_train)\n",
    "        \n",
    "        # הצגת 5 השורות הראשונות\n",
    "        print(\"First 5 value\")\n",
    "        print(df.head())\n",
    "    \n",
    "    except FileNotFoundError:\n",
    "        print(f\"Error: The file at {housing_train} was not found.\")\n",
    "    except Exception as e:\n",
    "        print(f\"An error occurred: {e}\")\n",
    "\n",
    "# שימוש בפונקציה\n",
    "\n",
    "housing_train = r'C:\\Users\\אברהם מרו\\Desktop\\Hit\\ML\\מטלות\\מטלה 2\\housing_train.csv'  # הכנס כאן את הנתיב לקובץ שלך\n",
    "housing_test = r'C:\\Users\\אברהם מרו\\Desktop\\Hit\\ML\\מטלות\\מטלה 2\\housing_test.csv'\n",
    "load_and_show_csv(housing_train)\n",
    "load_and_show_csv(housing_test)\n"
   ]
  },
  {
   "cell_type": "code",
   "execution_count": 19,
   "metadata": {
    "scrolled": false
   },
   "outputs": [
    {
     "name": "stdout",
     "output_type": "stream",
     "text": [
      "             MedInc      HouseAge      AveRooms     AveBedrms    Population  \\\n",
      "count  16512.000000  16512.000000  16512.000000  16512.000000  16512.000000   \n",
      "mean       3.863517     28.650678      5.412479      1.093546   1424.287609   \n",
      "std        1.878577     12.623994      2.088680      0.378594   1139.012630   \n",
      "min        0.499900      1.000000      0.846154      0.333333      3.000000   \n",
      "25%        2.564375     18.000000      4.448665      1.005988    789.000000   \n",
      "50%        3.536650     29.000000      5.225511      1.048780   1167.000000   \n",
      "75%        4.744375     37.000000      6.046629      1.099691   1722.000000   \n",
      "max       15.000100     52.000000     62.422222     15.312500  35682.000000   \n",
      "\n",
      "           AveOccup      Latitude     Longitude   MedHouseVal  \n",
      "count  16512.000000  16512.000000  16512.000000  16512.000000  \n",
      "mean       3.101201     35.631452   -119.566283      2.065267  \n",
      "std       11.587773      2.137537      2.006552      1.151219  \n",
      "min        0.692308     32.540000   -124.350000      0.149990  \n",
      "25%        2.431070     33.930000   -121.800000      1.192000  \n",
      "50%        2.816355     34.250000   -118.490000      1.796000  \n",
      "75%        3.281612     37.710000   -118.000000      2.647000  \n",
      "max     1243.333333     41.950000   -114.310000      5.000010  \n"
     ]
    },
    {
     "data": {
      "text/plain": [
       "<seaborn.axisgrid.PairGrid at 0x2027119c320>"
      ]
     },
     "execution_count": 19,
     "metadata": {},
     "output_type": "execute_result"
    },
    {
     "data": {
      "image/png": "[encoded data removed]",
      "text/plain": [
       "<Figure size 432x288 with 1 Axes>"
      ]
     },
     "metadata": {
      "needs_background": "light"
     },
     "output_type": "display_data"
    },
    {
     "data": {
      "image/png": "[encoded data removed]",
      "text/plain": [
       "<Figure size 432x432 with 3 Axes>"
      ]
     },
     "metadata": {
      "needs_background": "light"
     },
     "output_type": "display_data"
    },
    {
     "data": {
      "image/png": "[encoded data removed]",
      "text/plain": [
       "<Figure size 360x360 with 6 Axes>"
      ]
     },
     "metadata": {
      "needs_background": "light"
     },
     "output_type": "display_data"
    }
   ],
   "source": [
    "train = pd.read_csv(r'C:\\Users\\אברהם מרו\\Desktop\\Hit\\ML\\מטלות\\מטלה 2\\housing_train.csv')\n",
    "test = pd.read_csv(r'C:\\Users\\אברהם מרו\\Desktop\\Hit\\ML\\מטלות\\מטלה 2\\housing_test.csv')\n",
    "\n",
    "# 1. הצגת סטטיסטיקות כלליות\n",
    "print(train.describe())\n",
    "\n",
    "plt.hist(train['HouseAge'])\n",
    "#print()\n",
    "sns.jointplot(train['Population'], train['MedInc'], kind=\"kde\")\n",
    "\n",
    "sns.pairplot(train[['MedHouseVal','AveRooms']])"
   ]
  },
  {
   "cell_type": "markdown",
   "metadata": {},
   "source": [
    "## Part 3 - Experiments\n",
    "You could add as many code cells as needed"
   ]
  },
  {
   "cell_type": "code",
   "execution_count": 20,
   "metadata": {},
   "outputs": [
    {
     "name": "stdout",
     "output_type": "stream",
     "text": [
      "MedInc         0\n",
      "HouseAge       0\n",
      "AveRooms       0\n",
      "AveBedrms      0\n",
      "Population     0\n",
      "AveOccup       0\n",
      "Latitude       0\n",
      "Longitude      0\n",
      "MedHouseVal    0\n",
      "dtype: int64\n"
     ]
    }
   ],
   "source": [
    "#housing_train = r'C:\\Users\\אברהם מרו\\Desktop\\Hit\\ML\\מטלות\\מטלה 2\\housing_train.csv'\n",
    "# בדיקת ערכים חסרים\n",
    "print(train.isnull().sum())\n",
    "\n",
    "# אם יש ערכים חסרים, ניתן למלא אותם באופנים שונים, למשל, לפי הממוצע\n",
    "train.fillna(train.mean(), inplace=True)\n",
    "\n",
    "\n"
   ]
  },
  {
   "cell_type": "code",
   "execution_count": 28,
   "metadata": {
    "scrolled": false
   },
   "outputs": [
    {
     "name": "stdout",
     "output_type": "stream",
     "text": [
      "\n",
      "תוצאות עבור כל שילוב פרמטרים:\n",
      "model: RandomForestRegressor, param: {'max_depth': 20, 'min_samples_split': 5, 'n_estimators': 50}, Average R^2: 0.6548\n",
      "model: RandomForestRegressor, param: {'max_depth': 20, 'min_samples_split': 5, 'n_estimators': 200}, Average R^2: 0.6630\n",
      "model: RandomForestRegressor, param: {'max_depth': 20, 'min_samples_split': 10, 'n_estimators': 50}, Average R^2: 0.6536\n",
      "model: RandomForestRegressor, param: {'max_depth': 20, 'min_samples_split': 10, 'n_estimators': 200}, Average R^2: 0.6614\n",
      "model: RandomForestRegressor, param: {'max_depth': None, 'min_samples_split': 5, 'n_estimators': 50}, Average R^2: 0.6540\n",
      "model: RandomForestRegressor, param: {'max_depth': None, 'min_samples_split': 5, 'n_estimators': 200}, Average R^2: 0.6630\n",
      "model: RandomForestRegressor, param: {'max_depth': None, 'min_samples_split': 10, 'n_estimators': 50}, Average R^2: 0.6525\n",
      "model: RandomForestRegressor, param: {'max_depth': None, 'min_samples_split': 10, 'n_estimators': 200}, Average R^2: 0.6611\n",
      "model: LinearRegression, param: {'fit_intercept': True, 'normalize': True}, Average R^2: 0.6066\n",
      "model: LinearRegression, param: {'fit_intercept': True, 'normalize': False}, Average R^2: 0.6066\n",
      "model: LinearRegression, param: {'fit_intercept': False, 'normalize': True}, Average R^2: -2.6137\n",
      "model: LinearRegression, param: {'fit_intercept': False, 'normalize': False}, Average R^2: -2.6137\n",
      "\n",
      "Best Model: RandomForestRegressor\n",
      "Best hyper parameters: {'max_depth': None, 'min_samples_split': 5, 'n_estimators': 200}\n",
      "Highest R^2 avergae: 0.6630\n"
     ]
    }
   ],
   "source": [
    "# פונקציה לפיצ'ר אנג'ינירינג\n",
    "def feature_engineering(X):\n",
    "    scaler = StandardScaler()\n",
    "    numeric_cols = X.select_dtypes(include=[np.number]).columns.tolist()\n",
    "    X_scaled = scaler.fit_transform(X[numeric_cols])\n",
    "    \n",
    "    X[numeric_cols] = X_scaled\n",
    "    return X\n",
    "\n",
    "# פונקציה לביצוע 5-fold cross-validation ולמציאת ההייפרפרמטרים המוצלחים ביותר\n",
    "def cross_validate_and_select_best_model(models_params, X, y):\n",
    "    best_model = None\n",
    "    best_r2 = -np.inf\n",
    "    best_model_name = None\n",
    "    best_params = None\n",
    "    results = []\n",
    "\n",
    "    # 5-fold cross-validation\n",
    "    kf = KFold(n_splits=5, shuffle=True, random_state=42)\n",
    "\n",
    "    # עבור כל מודל המוגדר ב- models_params\n",
    "    for model_name, model, param_grid in models_params:\n",
    "        param_combinations = list(ParameterGrid(param_grid))\n",
    "\n",
    "        for params in param_combinations:\n",
    "            fold_results = []\n",
    "            #print(f\"\\nבודק מודל: {model_name}, פרמטרים: {params}\")\n",
    "\n",
    "            for fold, (train_index, valid_index) in enumerate(kf.split(X), 1):\n",
    "                X_train, X_valid = X.iloc[train_index], X.iloc[valid_index]\n",
    "                y_train, y_valid = y.iloc[train_index], y.iloc[valid_index]\n",
    "                \n",
    "                # ביצוע פיצ'ר אנג'ינירינג\n",
    "                X_train_fe = feature_engineering(X_train.copy())\n",
    "                X_valid_fe = feature_engineering(X_valid.copy())\n",
    "\n",
    "                # הגדרת המודל עם הפרמטרים הנוכחיים\n",
    "                model.set_params(**params)\n",
    "\n",
    "                # אימון המודל\n",
    "                model.fit(X_train_fe, y_train)\n",
    "                y_valid_pred = model.predict(X_valid_fe)\n",
    "\n",
    "                # חישוב r^2 לכל fold\n",
    "                r2 = r2_score(y_valid, y_valid_pred)\n",
    "                fold_results.append(r2)\n",
    "                #print(f\"Fold {fold}: R^2 = {r2:.4f}\")\n",
    "\n",
    "            # ממוצע ה-R^2 על פני כל ה-folds עבור הייפרפרמטרים הנוכחיים\n",
    "            avg_r2 = np.mean(fold_results)\n",
    "            results.append({\n",
    "                'model': model_name,\n",
    "                'params': params,\n",
    "                'average_r2': avg_r2\n",
    "            })\n",
    "\n",
    "            # בדיקה אם זהו הביצוע הטוב ביותר עד כה\n",
    "            if avg_r2 > best_r2:\n",
    "                best_r2 = avg_r2\n",
    "                best_model = model\n",
    "                best_model_name = model_name\n",
    "                best_params = params\n",
    "\n",
    "    # הדפסת התוצאות עבור כל שילוב פרמטרים\n",
    "    print(\"\\nתוצאות עבור כל שילוב פרמטרים:\")\n",
    "    for res in results:\n",
    "        print(f\"model: {res['model']}, param: {res['params']}, Average R^2: {res['average_r2']:.4f}\")\n",
    "    \n",
    "    return best_model_name, best_model, best_params, best_r2\n",
    "\n",
    "# הגדרת נתונים\n",
    "X = train.drop(columns='MedHouseVal')  # הנחה ש-MedHouseVal הוא היעד\n",
    "y = train['MedHouseVal']\n",
    "\n",
    "\n",
    "# הגדרת מודלים ומרווחים של הייפרפרמטרים לבדיקת שילובים שונים\n",
    "models_params = [\n",
    "    ('RandomForestRegressor', RandomForestRegressor(random_state=42), {\n",
    "        'n_estimators': [50, 200],\n",
    "        'max_depth': [20, None],\n",
    "        'min_samples_split': [5, 10]\n",
    "    }),\n",
    "    ('LinearRegression', LinearRegression(), {\n",
    "        'fit_intercept': [True, False],\n",
    "        'normalize': [True, False]\n",
    "    })\n",
    "]\n",
    "\n",
    "# קריאה לפונקציה למציאת השילוב המיטבי\n",
    "best_model_name, best_model, best_params, best_r2 = cross_validate_and_select_best_model(models_params, X, y)\n",
    "\n",
    "# הדפסת התוצאות הטובות ביותר\n",
    "print(f\"\\nBest Model: {best_model_name}\")\n",
    "print(f\"Best hyper parameters: {best_params}\")\n",
    "print(f\"Highest R^2 avergae: {best_r2:.4f}\")"
   ]
  },
  {
   "cell_type": "code",
   "execution_count": null,
   "metadata": {},
   "outputs": [],
   "source": []
  },
  {
   "cell_type": "code",
   "execution_count": null,
   "metadata": {},
   "outputs": [],
   "source": []
  },
  {
   "cell_type": "markdown",
   "metadata": {},
   "source": [
    "## Part 4 - Training \n",
    "Use the best combination of feature engineering, model (algorithm and hyperparameters) from the experiment part (part 3)"
   ]
  },
  {
   "cell_type": "code",
   "execution_count": 26,
   "metadata": {},
   "outputs": [
    {
     "name": "stdout",
     "output_type": "stream",
     "text": [
      "\n",
      "המודל אומן מחדש על כל ה-Train data עם ההייפרפרמטרים המיטביים.\n"
     ]
    }
   ],
   "source": [
    "# לאמן מחדש את המודל על כל ה-Train data עם ההייפרפרמטרים המיטביים\n",
    "def retrain_best_model_on_full_data(best_model, best_params, X, y):\n",
    "    # ביצוע פיצ'ר אנג'ינירינג\n",
    "    X_fe = feature_engineering(X.copy())\n",
    "\n",
    "    # הגדרת המודל עם ההייפרפרמטרים המיטביים\n",
    "    best_model.set_params(**best_params)\n",
    "\n",
    "    # אימון המודל על כל ה-Train data\n",
    "    best_model.fit(X_fe, y)\n",
    "    print(\"\\nהמודל אומן מחדש על כל ה-Train data עם ההייפרפרמטרים המיטביים.\")\n",
    "\n",
    "# קריאה לפונקציה לאימון מחדש על כל ה-Train data\n",
    "retrain_best_model_on_full_data(best_model, best_params, X, y)"
   ]
  },
  {
   "cell_type": "code",
   "execution_count": null,
   "metadata": {},
   "outputs": [],
   "source": []
  },
  {
   "cell_type": "code",
   "execution_count": null,
   "metadata": {},
   "outputs": [],
   "source": []
  },
  {
   "cell_type": "code",
   "execution_count": null,
   "metadata": {},
   "outputs": [],
   "source": []
  },
  {
   "cell_type": "code",
   "execution_count": null,
   "metadata": {},
   "outputs": [],
   "source": []
  },
  {
   "cell_type": "markdown",
   "metadata": {},
   "source": [
    "## Part 5 - Apply on test and show model performance estimation"
   ]
  },
  {
   "cell_type": "code",
   "execution_count": 27,
   "metadata": {},
   "outputs": [
    {
     "name": "stdout",
     "output_type": "stream",
     "text": [
      "\n",
      "המודל אומן מחדש על כל ה-Train data עם ההייפרפרמטרים המיטביים.\n",
      "\n",
      "איכות המודל על ה-Test לפי R^2: 0.9630\n",
      "\n",
      "השוואת 5 התחזיות הראשונות לערכים האמיתיים:\n",
      "   Actual  Predicted\n",
      "0   3.500   3.801082\n",
      "1   0.883   1.030948\n",
      "2   2.536   2.366550\n",
      "3   1.810   1.947605\n",
      "4   1.250   1.271629\n"
     ]
    }
   ],
   "source": [
    "X_test = train.drop(columns='MedHouseVal')  # הנחה ש-MedHouseVal הוא היעד\n",
    "y_test = train['MedHouseVal']\n",
    "\n",
    "# פונקציה להפעלת המודל על ה-Test data והדפסת התוצאות\n",
    "def predict_and_evaluate_on_test(best_model, X_test, y_test):\n",
    "    # ביצוע פיצ'ר אנג'ינירינג על ה-Test data\n",
    "    X_test_fe = feature_engineering(X_test.copy())\n",
    "\n",
    "    # חיזוי הערכים עבור ה-Test data\n",
    "    y_test_pred = best_model.predict(X_test_fe)\n",
    "\n",
    "    # חישוב איכות המודל לפי R^2\n",
    "    r2 = r2_score(y_test, y_test_pred)\n",
    "    print(f\"\\nאיכות המודל על ה-Test לפי R^2: {r2:.4f}\")\n",
    "\n",
    "    # הצגת 5 התוצאות הראשונות בהשוואה לערכים האמיתיים\n",
    "    results = pd.DataFrame({'Actual': y_test.values, 'Predicted': y_test_pred})\n",
    "    print(\"\\nהשוואת 5 התחזיות הראשונות לערכים האמיתיים:\")\n",
    "    print(results.head())\n",
    "\n",
    "# שימוש בקומבינציה הטובה ביותר לאימון מחדש על כל ה-Train data\n",
    "retrain_best_model_on_full_data(best_model, best_params, X, y)\n",
    "\n",
    "# יישום המודל על ה-Test data והערכתו\n",
    "predict_and_evaluate_on_test(best_model, X_test, y_test)"
   ]
  },
  {
   "cell_type": "code",
   "execution_count": null,
   "metadata": {},
   "outputs": [],
   "source": []
  },
  {
   "cell_type": "code",
   "execution_count": null,
   "metadata": {},
   "outputs": [],
   "source": []
  },
  {
   "cell_type": "code",
   "execution_count": null,
   "metadata": {},
   "outputs": [],
   "source": []
  }
 ],
 "metadata": {
  "kernelspec": {
   "display_name": "Python 3",
   "language": "python",
   "name": "python3"
  },
  "language_info": {
   "codemirror_mode": {
    "name": "ipython",
    "version": 3
   },
   "file_extension": ".py",
   "mimetype": "text/x-python",
   "name": "python",
   "nbconvert_exporter": "python",
   "pygments_lexer": "ipython3",
   "version": "3.7.3"
  }
 },
 "nbformat": 4,
 "nbformat_minor": 5
}
